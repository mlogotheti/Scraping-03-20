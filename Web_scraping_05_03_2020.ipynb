{
  "nbformat": 4,
  "nbformat_minor": 0,
  "metadata": {
    "colab": {
      "name": "Web-scraping-05-03-2020.ipynb",
      "provenance": [],
      "authorship_tag": "ABX9TyPAiJrXG4SGquIvHb/2uy+k",
      "include_colab_link": true
    },
    "kernelspec": {
      "name": "python3",
      "display_name": "Python 3"
    }
  },
  "cells": [
    {
      "cell_type": "markdown",
      "metadata": {
        "id": "view-in-github",
        "colab_type": "text"
      },
      "source": [
        "<a href=\"https://colab.research.google.com/github/mlogotheti/Scraping-03-20/blob/master/Web_scraping_05_03_2020.ipynb\" target=\"_parent\"><img src=\"https://colab.research.google.com/assets/colab-badge.svg\" alt=\"Open In Colab\"/></a>"
      ]
    },
    {
      "cell_type": "markdown",
      "metadata": {
        "id": "Jhe3RNzK_VhL",
        "colab_type": "text"
      },
      "source": [
        "#**Web scraping 05-03-2020** "
      ]
    },
    {
      "cell_type": "markdown",
      "metadata": {
        "id": "URbWqEZPIyx4",
        "colab_type": "text"
      },
      "source": [
        ""
      ]
    },
    {
      "cell_type": "code",
      "metadata": {
        "id": "31XnxLDT_aBd",
        "colab_type": "code",
        "colab": {
          "base_uri": "https://localhost:8080/",
          "height": 34
        },
        "outputId": "8468fce0-aa3f-445d-9b77-d00a2038cf74"
      },
      "source": [
        "from datetime import datetime\n",
        "print(\"last update:\", '{}'.format(datetime.now()))"
      ],
      "execution_count": 1,
      "outputs": [
        {
          "output_type": "stream",
          "text": [
            "last update: 2020-03-05 14:48:31.426713\n"
          ],
          "name": "stdout"
        }
      ]
    },
    {
      "cell_type": "code",
      "metadata": {
        "id": "Yn6DhuH_ACwa",
        "colab_type": "code",
        "colab": {}
      },
      "source": [
        "from bs4 import BeautifulSoup\n",
        "import requests\n",
        "import numpy as np\n",
        "import re\n",
        "import pandas as pd\n",
        "# from tqdm import tqdm _notebook"
      ],
      "execution_count": 0,
      "outputs": []
    },
    {
      "cell_type": "code",
      "metadata": {
        "id": "L67lJwY6CILR",
        "colab_type": "code",
        "colab": {}
      },
      "source": [
        "def extract_books_from_result(soup):\n",
        "    returner = {'books': [], 'authors': []}\n",
        "    for book in soup.find_all('div', attrs={'class':'cmp-text text'}):\n",
        "        try:\n",
        "            text = book.text\n",
        "            pattern = re.compile(r'(?<=. ).+(?=\\n)')\n",
        "            appender = re.findall(pattern,text)[0].split(' by')\n",
        "            \n",
        "            if len(appender) > 1:\n",
        "                returner['books'].append(appender[0])\n",
        "                returner['authors'].append(appender[1])\n",
        "                \n",
        "        except:\n",
        "            None\n",
        "            \n",
        "    returner_df = pd.DataFrame(returner, columns=['books','authors']) \n",
        "    \n",
        "    return returner_df"
      ],
      "execution_count": 0,
      "outputs": []
    },
    {
      "cell_type": "code",
      "metadata": {
        "id": "m3L-VX-EE9O8",
        "colab_type": "code",
        "colab": {}
      },
      "source": [
        "url = 'https://www.penguin.co.uk/articles/2018/100-must-read-classic-books/'\n",
        "r = requests.get(url)\n",
        "soup = BeautifulSoup(r.text,'html.parser')\n",
        "results = extract_books_from_result(soup)"
      ],
      "execution_count": 0,
      "outputs": []
    },
    {
      "cell_type": "code",
      "metadata": {
        "id": "kVrIie7FE_cV",
        "colab_type": "code",
        "colab": {
          "base_uri": "https://localhost:8080/",
          "height": 419
        },
        "outputId": "230d36b5-566b-4b65-f752-05edab699db2"
      },
      "source": [
        "results"
      ],
      "execution_count": 5,
      "outputs": [
        {
          "output_type": "execute_result",
          "data": {
            "text/html": [
              "<div>\n",
              "<style scoped>\n",
              "    .dataframe tbody tr th:only-of-type {\n",
              "        vertical-align: middle;\n",
              "    }\n",
              "\n",
              "    .dataframe tbody tr th {\n",
              "        vertical-align: top;\n",
              "    }\n",
              "\n",
              "    .dataframe thead th {\n",
              "        text-align: right;\n",
              "    }\n",
              "</style>\n",
              "<table border=\"1\" class=\"dataframe\">\n",
              "  <thead>\n",
              "    <tr style=\"text-align: right;\">\n",
              "      <th></th>\n",
              "      <th>books</th>\n",
              "      <th>authors</th>\n",
              "    </tr>\n",
              "  </thead>\n",
              "  <tbody>\n",
              "    <tr>\n",
              "      <th>0</th>\n",
              "      <td>To Kill a Mockingbird</td>\n",
              "      <td>Harper Lee</td>\n",
              "    </tr>\n",
              "    <tr>\n",
              "      <th>1</th>\n",
              "      <td>One Hundred Years of Solitude</td>\n",
              "      <td>Gabriel García Márquez</td>\n",
              "    </tr>\n",
              "    <tr>\n",
              "      <th>2</th>\n",
              "      <td>In Cold Blood</td>\n",
              "      <td>Truman Capote</td>\n",
              "    </tr>\n",
              "    <tr>\n",
              "      <th>3</th>\n",
              "      <td>Wide Sargasso Sea</td>\n",
              "      <td>Jean Rhys</td>\n",
              "    </tr>\n",
              "    <tr>\n",
              "      <th>4</th>\n",
              "      <td>Brave New World</td>\n",
              "      <td>Aldous Huxley</td>\n",
              "    </tr>\n",
              "    <tr>\n",
              "      <th>...</th>\n",
              "      <td>...</td>\n",
              "      <td>...</td>\n",
              "    </tr>\n",
              "    <tr>\n",
              "      <th>93</th>\n",
              "      <td>One Day in the Life of Ivan Denisovich</td>\n",
              "      <td>Alexander Solzhenitsyn</td>\n",
              "    </tr>\n",
              "    <tr>\n",
              "      <th>94</th>\n",
              "      <td>What A Carve Up!</td>\n",
              "      <td>Jonathan Coe</td>\n",
              "    </tr>\n",
              "    <tr>\n",
              "      <th>95</th>\n",
              "      <td>Zen and the Art of Motorcycle Maintenance</td>\n",
              "      <td>Robert Pirsig</td>\n",
              "    </tr>\n",
              "    <tr>\n",
              "      <th>96</th>\n",
              "      <td>White Nights</td>\n",
              "      <td>Fyodor Dostoyevsky</td>\n",
              "    </tr>\n",
              "    <tr>\n",
              "      <th>97</th>\n",
              "      <td>Hard Times</td>\n",
              "      <td>Charles Dickens</td>\n",
              "    </tr>\n",
              "  </tbody>\n",
              "</table>\n",
              "<p>98 rows × 2 columns</p>\n",
              "</div>"
            ],
            "text/plain": [
              "                                        books                   authors\n",
              "0                       To Kill a Mockingbird               Harper Lee \n",
              "1               One Hundred Years of Solitude   Gabriel García Márquez \n",
              "2                               In Cold Blood             Truman Capote\n",
              "3                           Wide Sargasso Sea                 Jean Rhys\n",
              "4                             Brave New World             Aldous Huxley\n",
              "..                                        ...                       ...\n",
              "93     One Day in the Life of Ivan Denisovich    Alexander Solzhenitsyn\n",
              "94                           What A Carve Up!              Jonathan Coe\n",
              "95  Zen and the Art of Motorcycle Maintenance             Robert Pirsig\n",
              "96                               White Nights        Fyodor Dostoyevsky\n",
              "97                                 Hard Times           Charles Dickens\n",
              "\n",
              "[98 rows x 2 columns]"
            ]
          },
          "metadata": {
            "tags": []
          },
          "execution_count": 5
        }
      ]
    }
  ]
}